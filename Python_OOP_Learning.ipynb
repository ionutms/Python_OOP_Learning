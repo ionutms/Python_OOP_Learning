{
 "cells": [
  {
   "cell_type": "markdown",
   "metadata": {},
   "source": [
    "## Reference\n",
    "[Python OOP Tutorials - Working with Classes by Corey Schafer](https://www.youtube.com/watch?v=ZDa-Z5JzLYM&list=PL-osiE80TeTsqhIuOqKhwlXsIBIdSeYtc)"
   ]
  },
  {
   "cell_type": "markdown",
   "metadata": {},
   "source": [
    "# Classes and Instances"
   ]
  },
  {
   "cell_type": "code",
   "execution_count": 35,
   "metadata": {},
   "outputs": [
    {
     "name": "stdout",
     "output_type": "stream",
     "text": [
      "<__main__.ClassNameVersion1 object at 0x0000026AAC99D5D0>\n",
      "<__main__.ClassNameVersion1 object at 0x0000026AAC365C90>\n",
      "attribute value for instance_1\n",
      "attribute value for instance_2\n"
     ]
    }
   ],
   "source": [
    "# This is a class declaration.\n",
    "# The class name shoud follow the pascal case (PascalCase) naming convention.\n",
    "# A class is a blueprint for creating instances.\n",
    "class ClassNameVersion1:\n",
    "    pass\n",
    "\n",
    "\n",
    "# this is how instances are declarated\n",
    "instance_1 = ClassNameVersion1()\n",
    "instance_2 = ClassNameVersion1()\n",
    "\n",
    "print(instance_1)\n",
    "print(instance_2)\n",
    "\n",
    "# this is how attribute(s) can be assinged to instances,\n",
    "# but this is not always the best practice\n",
    "instance_1.first_attribute = 'attribute value for instance_1'\n",
    "instance_2.first_attribute = 'attribute value for instance_2'\n",
    "\n",
    "print(instance_1.first_attribute)\n",
    "print(instance_2.first_attribute)\n",
    "\n",
    "\n",
    "# since this abbove method of assigning attributes is prone to mistakes,\n",
    "# and generates a lot of code, there is a better way to do this,\n",
    "# by using the \"init method\"\n",
    "\n",
    "# the init method is like a construnctor\n",
    "# this method needs to receive as the first argument, the instance,\n",
    "# which by convention is named \"self\", but it can also have a different name.\n",
    "\n",
    "\n",
    "class ClassNameVersion2:\n",
    "    def __init__(self):\n",
    "        pass\n",
    "\n",
    "\n",
    "# if we want to have other arguments, we can put them on the init method\n",
    "class ClassNameVersion3:\n",
    "    def __init__(self, first_attribute):\n",
    "        self.attribute_1 = first_attribute\n",
    "        # self.attribute_1 = first_attribute can also be\n",
    "        # self.first_attribute = first_attribute,\n",
    "        # which is more similar and easy to follow\n"
   ]
  },
  {
   "cell_type": "code",
   "execution_count": 36,
   "metadata": {},
   "outputs": [
    {
     "name": "stdout",
     "output_type": "stream",
     "text": [
      "<__main__.ClassNameVersion4 object at 0x0000026AACA05210> value_1 and value_2\n",
      "<__main__.ClassNameVersion4 object at 0x0000026AAC380050> value_1 and value_2\n"
     ]
    }
   ],
   "source": [
    "# other class attributes can be created from previous attributes\n",
    "class ClassNameVersion4:\n",
    "    def __init__(self, first_attribute: str, second_attribute: str):\n",
    "        self.first_attribute = first_attribute\n",
    "        self.second_attribute = second_attribute\n",
    "        self.third_attribute = f'{first_attribute} and {second_attribute}'\n",
    "\n",
    "\n",
    "instance_3 = ClassNameVersion4('value_1', 'value_2')\n",
    "instance_4 = ClassNameVersion4('value_1', 'value_2')\n",
    "\n",
    "print(instance_3, instance_3.third_attribute)\n",
    "print(instance_4, instance_4.third_attribute)\n"
   ]
  },
  {
   "cell_type": "code",
   "execution_count": 37,
   "metadata": {},
   "outputs": [
    {
     "name": "stdout",
     "output_type": "stream",
     "text": [
      "VALUE_1\n"
     ]
    }
   ],
   "source": [
    "# other methods can be added in the class\n",
    "class ClassNameVersion5:\n",
    "    def __init__(self, first_attribute: str, second_attribute: str):\n",
    "        self.first_attribute = first_attribute\n",
    "        self.second_attribute = second_attribute\n",
    "        self.third_attribute = f'{first_attribute} and {second_attribute}'\n",
    "\n",
    "    def format_first_attribute_upper(self):\n",
    "        return f'{self.first_attribute.upper()}'\n",
    "\n",
    "\n",
    "instance_5 = ClassNameVersion5('value_1', 'value_2')\n",
    "print(instance_5.format_first_attribute_upper())\n"
   ]
  },
  {
   "cell_type": "markdown",
   "metadata": {},
   "source": [
    "# Class Variables"
   ]
  },
  {
   "cell_type": "code",
   "execution_count": null,
   "metadata": {},
   "outputs": [],
   "source": [
    "class ClassNameVersion6:\n",
    "    \"\"\"Class docstring\"\"\"\n",
    "\n",
    "    # this is a class variable\n",
    "    split_character = '_'\n",
    "\n",
    "    def __init__(self, first_attribute: str, second_attribute: str):\n",
    "        self.first_attribute = first_attribute\n",
    "        self.second_attribute = second_attribute\n",
    "        self.third_attribute = f'{first_attribute} and {second_attribute}'\n",
    "\n",
    "    def format_first_attribute_upper(self):\n",
    "        \"\"\"Method docstring\"\"\"\n",
    "        return f'{self.first_attribute.upper()}'\n",
    "    \n",
    "    def update_second_attribute(self):\n",
    "        \"\"\"Method docstring\"\"\"\n",
    "        self.second_attribute = \\\n",
    "            self.second_attribute.split(self.split_character)[0]\n",
    "\n",
    "\n",
    "instance_6 = ClassNameVersion6('value_1', 'value_2')\n",
    "instance_7 = ClassNameVersion6('value_3', 'value_4')\n",
    "print(instance_6.second_attribute)\n",
    "print(instance_7.second_attribute)\n",
    "instance_6.update_second_attribute()\n",
    "instance_7.update_second_attribute()\n",
    "print(instance_6.second_attribute)\n",
    "print(instance_7.second_attribute)\n",
    "\n",
    "\n",
    "# this is how we can print the namespace of a class or instance\n",
    "print(ClassNameVersion6.__dict__)\n",
    "print(instance_6.__dict__)\n",
    "print(instance_7.__dict__)\n",
    "\n",
    "# the class variable value can be changed from the class or instance levels\n",
    "\n",
    "# here we change the class variable value on the class level,\n",
    "# so any instance will use this new value,\n",
    "# if is not overridden on the instance level\n",
    "ClassNameVersion6.split_character = 'e'\n",
    "\n",
    "print(instance_6.split_character)\n",
    "print(instance_7.split_character)\n",
    "\n",
    "\n",
    "instance_6.split_character = 'l'\n",
    "print(f'new value: {instance_6.split_character}')\n",
    "print(f'new value: {instance_7.split_character}')\n",
    "\n"
   ]
  },
  {
   "cell_type": "code",
   "execution_count": null,
   "metadata": {},
   "outputs": [],
   "source": [
    "class ClassNameVersion7:\n",
    "    \"\"\"Class docstring\"\"\"\n",
    "\n",
    "    # this are class variables\n",
    "    split_character = '_'\n",
    "    number_of_instances = 0\n",
    "\n",
    "    def __init__(self, first_attribute: str, second_attribute: str):\n",
    "        self.first_attribute = first_attribute\n",
    "        self.second_attribute = second_attribute\n",
    "        self.third_attribute = f'{first_attribute} and {second_attribute}'\n",
    "\n",
    "        # here we use the class name instead of self,\n",
    "        # because we don't want to allow this class variable to be overridden\n",
    "        # at the instance level\n",
    "        ClassNameVersion7.number_of_instances += 1\n",
    "\n",
    "    def format_first_attribute_upper(self):\n",
    "        \"\"\"Method docstring\"\"\"\n",
    "        return f'{self.first_attribute.upper()}'\n",
    "    \n",
    "    def update_second_attribute(self):\n",
    "        \"\"\"Method docstring\"\"\"\n",
    "        self.second_attribute = \\\n",
    "            self.second_attribute.split(self.split_character)[0]\n",
    "\n",
    "\n",
    "print(f'created instances: {ClassNameVersion7.number_of_instances}')\n",
    "\n",
    "instance_8 = ClassNameVersion7('value_1', 'value_2')\n",
    "instance_9 = ClassNameVersion7('value_3', 'value_4')\n",
    "\n",
    "print(f'created instances: {ClassNameVersion7.number_of_instances}')\n",
    "\n"
   ]
  }
 ],
 "metadata": {
  "kernelspec": {
   "display_name": "Python_OOP_Learning-6uJsyPRj",
   "language": "python",
   "name": "python3"
  },
  "language_info": {
   "codemirror_mode": {
    "name": "ipython",
    "version": 3
   },
   "file_extension": ".py",
   "mimetype": "text/x-python",
   "name": "python",
   "nbconvert_exporter": "python",
   "pygments_lexer": "ipython3",
   "version": "3.11.9"
  }
 },
 "nbformat": 4,
 "nbformat_minor": 2
}
